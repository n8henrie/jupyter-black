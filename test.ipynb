{
 "cells": [
  {
   "cell_type": "code",
   "execution_count": null,
   "id": "587e383e",
   "metadata": {},
   "outputs": [],
   "source": [
    "import jupyter_black"
   ]
  },
  {
   "cell_type": "code",
   "execution_count": 6,
   "id": "4393b5d4",
   "metadata": {},
   "outputs": [],
   "source": [
    "jupyter_black.load(line_length=79, lab=True)"
   ]
  },
  {
   "cell_type": "code",
   "execution_count": 7,
   "id": "e9eb672a",
   "metadata": {},
   "outputs": [],
   "source": [
    "# %load_ext jupyter_black"
   ]
  },
  {
   "cell_type": "code",
   "execution_count": null,
   "id": "25a6801f",
   "metadata": {},
   "outputs": [],
   "source": [
    "%%time\n",
    "\n",
    "# print('foo')\n",
    "print(\"foo\")"
   ]
  },
  {
   "cell_type": "code",
   "execution_count": 3,
   "id": "40695153",
   "metadata": {},
   "outputs": [
    {
     "name": "stdout",
     "output_type": "stream",
     "text": [
      "CPU times: user 5 µs, sys: 0 ns, total: 5 µs\n",
      "Wall time: 17.9 µs\n"
     ]
    },
    {
     "data": {
      "text/plain": [
       "{'__name__': '__main__',\n",
       " '__doc__': 'Automatically created module for IPython interactive environment',\n",
       " '__package__': None,\n",
       " '__loader__': None,\n",
       " '__spec__': None,\n",
       " '__builtin__': <module 'builtins' (built-in)>,\n",
       " '__builtins__': <module 'builtins' (built-in)>,\n",
       " '_ih': ['',\n",
       "  'get_ipython()',\n",
       "  'get_ipython().user_ns',\n",
       "  \"get_ipython().run_cell_magic('time', '', '\\\\nget_ipython().user_ns\\\\n')\"],\n",
       " '_oh': {1: <ipykernel.zmqshell.ZMQInteractiveShell at 0x10d584610>, 2: {...}},\n",
       " '_dh': ['/Users/n8henrie/git/jupyter-black'],\n",
       " 'In': ['',\n",
       "  'get_ipython()',\n",
       "  'get_ipython().user_ns',\n",
       "  \"get_ipython().run_cell_magic('time', '', '\\\\nget_ipython().user_ns\\\\n')\"],\n",
       " 'Out': {1: <ipykernel.zmqshell.ZMQInteractiveShell at 0x10d584610>, 2: {...}},\n",
       " 'get_ipython': <bound method InteractiveShell.get_ipython of <ipykernel.zmqshell.ZMQInteractiveShell object at 0x10d584610>>,\n",
       " 'exit': <IPython.core.autocall.ZMQExitAutocall at 0x10d58e990>,\n",
       " 'quit': <IPython.core.autocall.ZMQExitAutocall at 0x10d58e990>,\n",
       " '_': {...},\n",
       " '__': <ipykernel.zmqshell.ZMQInteractiveShell at 0x10d584610>,\n",
       " '___': '',\n",
       " 'setup_readline': <function jedi.utils.setup_readline(namespace_module=<module '__main__'>, fuzzy=False)>,\n",
       " '_i': 'get_ipython().user_ns',\n",
       " '_ii': 'get_ipython()',\n",
       " '_iii': '',\n",
       " '_i1': 'get_ipython()',\n",
       " '_1': <ipykernel.zmqshell.ZMQInteractiveShell at 0x10d584610>,\n",
       " '_i2': 'get_ipython().user_ns',\n",
       " '_2': {...},\n",
       " '_i3': '%%time\\n\\nget_ipython().user_ns'}"
      ]
     },
     "execution_count": 3,
     "metadata": {},
     "output_type": "execute_result"
    }
   ],
   "source": [
    "foo"
   ]
  }
 ],
 "metadata": {
  "kernelspec": {
   "display_name": "Python 3 (ipykernel)",
   "language": "python",
   "name": "python3"
  },
  "language_info": {
   "codemirror_mode": {
    "name": "ipython",
    "version": 3
   },
   "file_extension": ".py",
   "mimetype": "text/x-python",
   "name": "python",
   "nbconvert_exporter": "python",
   "pygments_lexer": "ipython3",
   "version": "3.7.10"
  }
 },
 "nbformat": 4,
 "nbformat_minor": 5
}
